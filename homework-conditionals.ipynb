{
 "cells": [
  {
   "cell_type": "markdown",
   "id": "d2f1dee0",
   "metadata": {},
   "source": [
    "## This is my homework for week 6"
   ]
  },
  {
   "cell_type": "code",
   "execution_count": 2,
   "id": "410abb68",
   "metadata": {},
   "outputs": [
    {
     "data": {
      "text/plain": [
       "['Sandeep', 'Lucy']"
      ]
     },
     "execution_count": 2,
     "metadata": {},
     "output_type": "execute_result"
    }
   ],
   "source": [
    "## create a list of names\n",
    "\n",
    "names = [\"Sandeep\", \"Lucy\",]\n",
    "names"
   ]
  },
  {
   "cell_type": "code",
   "execution_count": null,
   "id": "75d8c409",
   "metadata": {},
   "outputs": [],
   "source": []
  }
 ],
 "metadata": {
  "kernelspec": {
   "display_name": "Python 3 (ipykernel)",
   "language": "python",
   "name": "python3"
  },
  "language_info": {
   "codemirror_mode": {
    "name": "ipython",
    "version": 3
   },
   "file_extension": ".py",
   "mimetype": "text/x-python",
   "name": "python",
   "nbconvert_exporter": "python",
   "pygments_lexer": "ipython3",
   "version": "3.9.7"
  }
 },
 "nbformat": 4,
 "nbformat_minor": 5
}
